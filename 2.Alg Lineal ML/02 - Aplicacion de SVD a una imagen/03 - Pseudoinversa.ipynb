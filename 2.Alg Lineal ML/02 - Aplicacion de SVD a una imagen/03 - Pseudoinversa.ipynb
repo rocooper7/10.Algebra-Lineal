{
 "cells": [
  {
   "cell_type": "code",
   "execution_count": 1,
   "metadata": {},
   "outputs": [],
   "source": [
    "import numpy as np\n",
    "\n",
    "np.set_printoptions(suppress=True)"
   ]
  },
  {
   "cell_type": "code",
   "execution_count": 2,
   "metadata": {
    "tags": []
   },
   "outputs": [
    {
     "output_type": "stream",
     "name": "stdout",
     "text": "[[ 2  3]\n [ 5  7]\n [11 13]]\n"
    }
   ],
   "source": [
    "A = np.array([[2, 3], [5, 7], [11, 13]])\n",
    "print(A)"
   ]
  },
  {
   "cell_type": "code",
   "execution_count": 3,
   "metadata": {
    "tags": []
   },
   "outputs": [
    {
     "output_type": "stream",
     "name": "stdout",
     "text": "U\n[[-0.18499741 -0.47276624 -0.86154979]\n [-0.44249308 -0.74271297  0.50257071]\n [-0.87748267  0.4742041  -0.07179582]]\nD\n[19.40321383  0.71783924]\nV\n[[-0.63055377 -0.77614557]\n [ 0.77614557 -0.63055377]]\n"
    }
   ],
   "source": [
    "U, D, V = np.linalg.svd(A)\n",
    "print(\"U\")\n",
    "print(U)\n",
    "print(\"D\")\n",
    "print(D)\n",
    "print(\"V\")\n",
    "print(V)"
   ]
  },
  {
   "cell_type": "code",
   "execution_count": 4,
   "metadata": {
    "tags": []
   },
   "outputs": [
    {
     "output_type": "stream",
     "name": "stdout",
     "text": "[[0. 0. 0.]\n [0. 0. 0.]]\n"
    }
   ],
   "source": [
    "D_pse = np.zeros((A.shape[0], A.shape[1])).T\n",
    "print(D_pse)"
   ]
  },
  {
   "cell_type": "code",
   "execution_count": 5,
   "metadata": {},
   "outputs": [
    {
     "name": "stdout",
     "output_type": "stream",
     "text": [
      "Valores a reemplazar en D_pse\n",
      "[[0. 0.]\n",
      " [0. 0.]]\n"
     ]
    }
   ],
   "source": [
    "print(\"Valores a reemplazar en D_pse\")\n",
    "print(D_pse[:D.shape[0], :D.shape[0]])"
   ]
  },
  {
   "cell_type": "code",
   "execution_count": 6,
   "metadata": {},
   "outputs": [
    {
     "name": "stdout",
     "output_type": "stream",
     "text": [
      "Valores que pondremos en D_pse\n",
      "[[0.05153785 0.        ]\n",
      " [0.         1.39306957]]\n"
     ]
    }
   ],
   "source": [
    "print(\"Valores que pondremos en D_pse\")\n",
    "print(np.linalg.inv(np.diag(D)))"
   ]
  },
  {
   "cell_type": "code",
   "execution_count": 8,
   "metadata": {},
   "outputs": [
    {
     "name": "stdout",
     "output_type": "stream",
     "text": [
      "D_pse\n",
      "[[0.05153785 0.         0.        ]\n",
      " [0.         1.39306957 0.        ]]\n"
     ]
    }
   ],
   "source": [
    "print(\"D_pse\")      #Se realiza el reemplazo de los pasos anteriores \n",
    "D_pse[:D.shape[0], :D.shape[0]] = np.linalg.inv(np.diag(D))\n",
    "print(D_pse)"
   ]
  },
  {
   "cell_type": "code",
   "execution_count": 9,
   "metadata": {},
   "outputs": [
    {
     "name": "stdout",
     "output_type": "stream",
     "text": [
      "[[-0.50515464 -0.78865979  0.54123711]\n",
      " [ 0.42268041  0.67010309 -0.3814433 ]]\n"
     ]
    }
   ],
   "source": [
    "A_pse = V.T.dot(D_pse).dot(U.T)      #Quien es nuestra Pseudoinversa\n",
    "print(A_pse)"
   ]
  },
  {
   "cell_type": "code",
   "execution_count": 11,
   "metadata": {},
   "outputs": [
    {
     "name": "stdout",
     "output_type": "stream",
     "text": [
      "[[-0.50515464 -0.78865979  0.54123711]\n",
      " [ 0.42268041  0.67010309 -0.3814433 ]]\n"
     ]
    }
   ],
   "source": [
    "A_pse_calc = np.linalg.pinv(A)    #Todo lo que se calculo se representa en forma resumida asi \n",
    "print(A_pse_calc)"
   ]
  },
  {
   "cell_type": "code",
   "execution_count": 12,
   "metadata": {},
   "outputs": [
    {
     "name": "stdout",
     "output_type": "stream",
     "text": [
      "[[ 1. -0.]\n",
      " [ 0.  1.]]\n"
     ]
    }
   ],
   "source": [
    "print(A_pse.dot(A))   #Validacion cercana a la identidad "
   ]
  },
  {
   "cell_type": "code",
   "execution_count": 13,
   "metadata": {},
   "outputs": [],
   "source": [
    "np.set_printoptions(suppress = False)"
   ]
  },
  {
   "cell_type": "code",
   "execution_count": 14,
   "metadata": {},
   "outputs": [
    {
     "name": "stdout",
     "output_type": "stream",
     "text": [
      "[[ 1.00000000e+00 -8.88178420e-16]\n",
      " [ 2.66453526e-15  1.00000000e+00]]\n"
     ]
    }
   ],
   "source": [
    "print(A_pse.dot(A))"
   ]
  },
  {
   "cell_type": "code",
   "execution_count": 15,
   "metadata": {},
   "outputs": [
    {
     "name": "stdout",
     "output_type": "stream",
     "text": [
      "[[ 0.25773196  0.43298969 -0.06185567]\n",
      " [ 0.43298969  0.74742268  0.03608247]\n",
      " [-0.06185567  0.03608247  0.99484536]]\n"
     ]
    }
   ],
   "source": [
    "print(A.dot(A_pse))"
   ]
  },
  {
   "cell_type": "code",
   "execution_count": 16,
   "metadata": {},
   "outputs": [
    {
     "name": "stdout",
     "output_type": "stream",
     "text": [
      "[[-0.50515464 -0.78865979  0.54123711]\n",
      " [ 0.42268041  0.67010309 -0.3814433 ]]\n"
     ]
    }
   ],
   "source": [
    "A_pse_2 = np.linalg.inv(A.T.dot(A)).dot(A.T)  #Otra forma de sacarlo \n",
    "print(A_pse_2)"
   ]
  },
  {
   "cell_type": "code",
   "execution_count": 17,
   "metadata": {},
   "outputs": [
    {
     "name": "stdout",
     "output_type": "stream",
     "text": [
      "[[-0.50515464 -0.78865979  0.54123711]\n",
      " [ 0.42268041  0.67010309 -0.3814433 ]]\n"
     ]
    }
   ],
   "source": [
    "print(A_pse)"
   ]
  }
 ],
 "metadata": {
  "kernelspec": {
   "display_name": "Python 3",
   "language": "python",
   "name": "python3"
  },
  "language_info": {
   "codemirror_mode": {
    "name": "ipython",
    "version": 3
   },
   "file_extension": ".py",
   "mimetype": "text/x-python",
   "name": "python",
   "nbconvert_exporter": "python",
   "pygments_lexer": "ipython3",
   "version": "3.7.4"
  }
 },
 "nbformat": 4,
 "nbformat_minor": 2
}